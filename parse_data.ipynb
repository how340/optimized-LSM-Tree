{
 "cells": [
  {
   "cell_type": "code",
   "execution_count": 1,
   "metadata": {},
   "outputs": [],
   "source": [
    "import pandas as pd\n",
    "import sys\n"
   ]
  },
  {
   "cell_type": "markdown",
   "metadata": {},
   "source": [
    "# processing put operator data"
   ]
  },
  {
   "cell_type": "code",
   "execution_count": 2,
   "metadata": {},
   "outputs": [],
   "source": [
    "file_path = \"experiment_results/basic_put_benchmark_short.txt\""
   ]
  },
  {
   "cell_type": "code",
   "execution_count": 3,
   "metadata": {},
   "outputs": [],
   "source": [
    "with open(file_path, 'r') as file:\n",
    "        content = file.read()"
   ]
  },
  {
   "cell_type": "code",
   "execution_count": 4,
   "metadata": {},
   "outputs": [],
   "source": [
    " # Split the data based on double newlines since each record spans two lines\n",
    "entries = content.strip().split('\\n\\n')\n",
    "\n",
    "parsed_data = []"
   ]
  },
  {
   "cell_type": "code",
   "execution_count": 5,
   "metadata": {},
   "outputs": [],
   "source": [
    "tmp = entries[0]"
   ]
  },
  {
   "cell_type": "code",
   "execution_count": 11,
   "metadata": {},
   "outputs": [],
   "source": [
    "def process_data(file_path):\n",
    "    with open(file_path, 'r') as file:\n",
    "        content = file.read()\n",
    "\n",
    "    # Split the data based on double newlines since each record spans two lines\n",
    "    entries = content.strip().split('\\n\\n')\n",
    "\n",
    "    parsed_data = []\n",
    "    for entry in entries:\n",
    "        lines = entry.split('\\n')\n",
    "        first_line_parts = lines[0].split()\n",
    "        second_line_parts = lines[1].split()\n",
    "\n",
    "        level_ratio = first_line_parts[0]\n",
    "        buffer = first_line_parts[1]  # Not used, for info\n",
    "        thread = first_line_parts[2]\n",
    "        workload = first_line_parts[3]\n",
    "        trial = first_line_parts[4] \n",
    "        runtime = second_line_parts[0]  # Assuming runtime is on the second line alone\n",
    "\n",
    "        parsed_data.append([level_ratio, buffer, thread,  workload, trial, runtime])\n",
    "\n",
    "    df = pd.DataFrame(parsed_data, columns=['level_ratio', 'buffer', 'thread', 'workload', 'trial', 'runtime'])\n",
    "    return df"
   ]
  },
  {
   "cell_type": "code",
   "execution_count": 22,
   "metadata": {},
   "outputs": [
    {
     "name": "stdout",
     "output_type": "stream",
     "text": [
      "     level_ratio   buffer  thread    workload    trial  runtime\n",
      "0              2   131072       1  workload_0  trial_1      128\n",
      "1              2   131072       1  workload_1  trial_1      526\n",
      "2              2   131072       1  workload_2  trial_1     2420\n",
      "3              2   131072       1  workload_3  trial_1    12712\n",
      "4              2   131072       1  workload_4  trial_1    67597\n",
      "..           ...      ...     ...         ...      ...      ...\n",
      "481           10  8388608       8  workload_1  trial_3      517\n",
      "482           10  8388608       8  workload_2  trial_3     2086\n",
      "483           10  8388608       8  workload_3  trial_3     8711\n",
      "484           10  8388608       8  workload_4  trial_3    36251\n",
      "485           10  8388608       8  workload_5  trial_3   171434\n",
      "\n",
      "[486 rows x 6 columns]\n"
     ]
    }
   ],
   "source": [
    "# Process the data\n",
    "df = process_data(file_path)\n",
    "df['runtime'] = pd.to_numeric(df['runtime'])\n",
    "df['level_ratio'] = pd.to_numeric(df['level_ratio'])\n",
    "df['buffer'] = pd.to_numeric(df['buffer'])\n",
    "df['thread'] = pd.to_numeric(df['thread'])\n",
    "\n",
    "print(df)"
   ]
  },
  {
   "cell_type": "code",
   "execution_count": 23,
   "metadata": {},
   "outputs": [],
   "source": [
    "stat = df.groupby([\"level_ratio\", \"buffer\", \"thread\", \"workload\"]).mean();\n",
    "stat.sort_values(by=[\"level_ratio\", \"buffer\", 'thread', \"workload\"], ascending=True)"
   ]
  },
  {
   "cell_type": "markdown",
   "metadata": {},
   "source": [
    "# Processing get operator data"
   ]
  },
  {
   "cell_type": "markdown",
   "metadata": {},
   "source": []
  }
 ],
 "metadata": {
  "kernelspec": {
   "display_name": "Python 3",
   "language": "python",
   "name": "python3"
  },
  "language_info": {
   "codemirror_mode": {
    "name": "ipython",
    "version": 3
   },
   "file_extension": ".py",
   "mimetype": "text/x-python",
   "name": "python",
   "nbconvert_exporter": "python",
   "pygments_lexer": "ipython3",
   "version": "3.9.6"
  }
 },
 "nbformat": 4,
 "nbformat_minor": 2
}
